{
 "cells": [
  {
   "cell_type": "code",
   "execution_count": null,
   "metadata": {},
   "outputs": [],
   "source": [
    "# Fetch batch function:\n",
    "\n",
    "def fetch_batch(epoch, batch_index, batch_size):\n",
    "    \n",
    "    return X_batch, y_batch\n",
    "\n",
    "\n",
    "# Set up computational graph:\n",
    "\n",
    "import tensorflow as tf\n",
    "reset_graph ()\n",
    "\n",
    "n_epochs = 1000\n",
    "learning_rate = 0.01\n",
    "\n",
    "X = tf.constant(scaled_housing_data_plus_bias, dtype=tf.float32, name=\"X\")\n",
    "y = tf.constant(housing_data_target, dtype=tf.float32, name=\"y\")\n",
    "\n",
    "theta = tf.Variable(tf.random_uniform([n + 1, 1], -1.0, 1.0), name=\"theta\")\n",
    "y_pred = tf .matmul(X, theta , name=\"predictions\")\n",
    "error = y_pred - y\n",
    "mse = tf.reduce_mean(tf.square(error), name=\"mse\")\n",
    "optimizer = tf.train.GradientDescentOptimizer(learning_rate)\n",
    "training_op = optimizer.minimize(mse)\n",
    "\n",
    "\n",
    "# Execute:\n",
    "\n",
    "init = tf.global_variables_initializer()\n",
    "\n",
    "with\n",
    "tf.Session() as sess:\n",
    "    sess.run(init)\n",
    "    for epoch in range(n_epochs):\n",
    "        if epoch % 100 == 0:\n",
    "            print(\"Epoch\", epoch, \"MSE=\", mse.eval()) sess.run(training_op)\n",
    "    best_theta = theta.eval()\n"
   ]
  }
 ],
 "metadata": {
  "kernelspec": {
   "display_name": "MLBDenv",
   "language": "python",
   "name": "mlbdenv"
  },
  "language_info": {
   "codemirror_mode": {
    "name": "ipython",
    "version": 3
   },
   "file_extension": ".py",
   "mimetype": "text/x-python",
   "name": "python",
   "nbconvert_exporter": "python",
   "pygments_lexer": "ipython3",
   "version": "3.7.7"
  }
 },
 "nbformat": 4,
 "nbformat_minor": 4
}
